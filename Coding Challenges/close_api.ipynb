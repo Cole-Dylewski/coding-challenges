{
 "cells": [
  {
   "cell_type": "markdown",
   "id": "d092d456",
   "metadata": {},
   "source": [
    "# Request: Make a get call to:https://api.close.com/buildwithus/\n",
    "Follow instructions in response body, retrieve and respond to hiring manager with verification ID"
   ]
  },
  {
   "cell_type": "code",
   "execution_count": 1,
   "id": "a5351783",
   "metadata": {},
   "outputs": [],
   "source": [
    "import requests\n",
    "import json\n",
    "import hashlib\n",
    "\n",
    "API_URL = \"https://api.close.com/buildwithus/\""
   ]
  },
  {
   "cell_type": "code",
   "execution_count": 2,
   "id": "28c1c35e",
   "metadata": {},
   "outputs": [],
   "source": [
    "def safe_json(response):\n",
    "    \"\"\"Try to parse JSON, fallback to raw text if not valid JSON.\"\"\"\n",
    "    try:\n",
    "        return response.json()\n",
    "    except ValueError:\n",
    "        return {\"raw_response\": response.text.strip()}"
   ]
  },
  {
   "cell_type": "code",
   "execution_count": 3,
   "id": "3fcc5676",
   "metadata": {},
   "outputs": [],
   "source": [
    "def fetch_traits():\n",
    "    \"\"\"GET the traits and key from the API.\"\"\"\n",
    "    response = requests.get(API_URL, timeout=10)\n",
    "    response.raise_for_status()\n",
    "    return response.json()"
   ]
  },
  {
   "cell_type": "code",
   "execution_count": 4,
   "id": "9bc12313",
   "metadata": {},
   "outputs": [],
   "source": [
    "def generate_post_body(traits, key, digest_size=64):\n",
    "    \"\"\"Generate BLAKE2b keyed hashes for each trait.\"\"\"\n",
    "    hashed_traits = []\n",
    "    key_bytes = key.encode(\"utf-8\")\n",
    "    \n",
    "    for trait in traits:\n",
    "        trait_bytes = trait.encode(\"utf-8\")\n",
    "        h = hashlib.blake2b(trait_bytes, key=key_bytes, digest_size=digest_size)\n",
    "        hashed_traits.append(h.hexdigest())\n",
    "    \n",
    "    return hashed_traits"
   ]
  },
  {
   "cell_type": "code",
   "execution_count": 5,
   "id": "67cfd087",
   "metadata": {},
   "outputs": [],
   "source": [
    "def submit_hashes(post_body):\n",
    "    \"\"\"POST the hashed array back to the API and safely parse response.\"\"\"\n",
    "    headers = {\"Content-Type\": \"application/json\"}\n",
    "    response = requests.post(API_URL, data=json.dumps(post_body), headers=headers, timeout=10)\n",
    "    \n",
    "    print(f\"[DEBUG] POST status: {response.status_code}\")\n",
    "    print(f\"[DEBUG] POST raw: {response.text.strip()[:200]}...\")\n",
    "    \n",
    "    response.raise_for_status()\n",
    "    return safe_json(response)\n"
   ]
  },
  {
   "cell_type": "code",
   "execution_count": 6,
   "id": "3287462e",
   "metadata": {},
   "outputs": [],
   "source": [
    "def main():\n",
    "    # Step 1: GET traits and key\n",
    "    data = fetch_traits()\n",
    "    traits = data[\"traits\"]\n",
    "    key = data[\"key\"]\n",
    "    \n",
    "    print(\"Traits:\", traits)\n",
    "    print(\"Key:\", key)\n",
    "    \n",
    "    # Step 2: Generate hashes\n",
    "    post_body = generate_post_body(traits, key)\n",
    "    print(\"Generated hashes:\", post_body)\n",
    "    \n",
    "    # Step 3: POST hashes and get response\n",
    "    result = submit_hashes(post_body)\n",
    "    print(\"API Response:\", result)"
   ]
  },
  {
   "cell_type": "code",
   "execution_count": 7,
   "id": "6649d3c0",
   "metadata": {},
   "outputs": [
    {
     "name": "stdout",
     "output_type": "stream",
     "text": [
      "Traits: ['Craftsman', 'Pragmatic', 'Curious', 'Methodical', 'Driven', 'Collaborator']\n",
      "Key: Close-3b55a485\n",
      "Generated hashes: ['5c37eab6391a9260d613962500aa53c87e2716b30d29333784577b9e583a6e9ec6549428ba9cd6f8773c24e7e00ef404b370624509a849115222ad40aae4e9f6', 'ea4e0714975462add996d9003228739a6d43a7be5b79bd0b57fca853f7531717ac77416144491e351508d16132cde91f0255d40cca9296024892a4280523925a', 'a31f8c3e7f9e5c82b62f9a6d98a172132fee9bfa6beef3d11a3f975a4f952981c0d321abab5a79f4f270cc757b9c45a8f534fffc608362803241c578a405def9', '785c87d191c31fcdc1c4bd827ef5d0e512c29ab352ac8bfd4095a4ab77815151340a9f70463f1d68d709494f8ebd2f33212f7d4af9a2fc26d9d563180d526f23', 'b61b7d4ebf29b078cecf2ca064e372fc7ffa662c338fcf25351e6adc5e1f9e3cf55ce25695fe5f6cb9eed3834438e87d87e90954cf7448966f381d610e637a7c', '14c21e7fde639ad0e2bdf44437cf3325e2b729ae5619f0417358604cccfddc75e6f8a3fbda939e154551d249edf824b2cb63cdeccadf2c24571744f8e794767f']\n",
      "[DEBUG] POST status: 200\n",
      "[DEBUG] POST raw: Verification ID: 1753650208.ah1FzID-M24...\n",
      "API Response: {'raw_response': 'Verification ID: 1753650208.ah1FzID-M24'}\n"
     ]
    }
   ],
   "source": [
    "if __name__ == \"__main__\":\n",
    "    main()"
   ]
  }
 ],
 "metadata": {
  "kernelspec": {
   "display_name": ".venv",
   "language": "python",
   "name": "python3"
  },
  "language_info": {
   "codemirror_mode": {
    "name": "ipython",
    "version": 3
   },
   "file_extension": ".py",
   "mimetype": "text/x-python",
   "name": "python",
   "nbconvert_exporter": "python",
   "pygments_lexer": "ipython3",
   "version": "3.13.5"
  }
 },
 "nbformat": 4,
 "nbformat_minor": 5
}
